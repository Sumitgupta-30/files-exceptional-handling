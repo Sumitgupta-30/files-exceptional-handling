{
 "cells": [
  {
   "cell_type": "markdown",
   "id": "0a0b8633-dcf7-4ffc-9475-c3a62644bf39",
   "metadata": {},
   "source": [
    "THEORETICAL QUESTIONS"
   ]
  },
  {
   "cell_type": "code",
   "execution_count": 1,
   "id": "aff1b171-b518-4308-8d8a-1416708c740b",
   "metadata": {},
   "outputs": [],
   "source": [
    "#What is the difference between interpreted and compiled languages?\n",
    "#Ans.) The main difference between compiled and interpreted languages is how the code is processed: \n",
    "#Compiled languages-\n",
    "#            The code is converted into machine code once, and then the processor can execute it. \n",
    "#            Compiled languages are generally faster and more efficient than interpreted languages. \n",
    "#            They also give the developer more control over hardware aspects, like memory management and CPU usage.\n",
    "#Interpreted languages\n",
    "#            The code is compiled on the fly each time the program is run. \n",
    "#            Interpreted languages offer more flexibility in terms of modifying and testing code on the fly. \n",
    "#            they are usually less efficient than compiled programs because they must be parsed, interpreted, and executed each time the program is run."
   ]
  },
  {
   "cell_type": "code",
   "execution_count": 3,
   "id": "0f507970-2bb0-4dd7-94cd-36f3eadc943e",
   "metadata": {},
   "outputs": [],
   "source": [
    "#What is exception handling in Python?\n",
    "#Ans.) Exception handling in Python is a mechanism for gracefully dealing with errors that might occur during the execution of your program. \n",
    "#     It allows you to prevent your program from crashing and instead take specific actions when an error occurs."
   ]
  },
  {
   "cell_type": "code",
   "execution_count": 5,
   "id": "821d4f18-d2db-449d-a8b0-2f5b97b9fbdf",
   "metadata": {},
   "outputs": [],
   "source": [
    "#What is the purpose of the finally block in exception handling?\n",
    "#Ans.) The purpose of the finally block in exception handling is to ensure that important code is executed regardless of whether an exception is thrown. \n",
    "#     this is useful for resource cleanup tasks, such as closing a file or database connection.\n",
    "#     it avoids bypassing cleanup codea and executes even if catch statement is missing."
   ]
  },
  {
   "cell_type": "code",
   "execution_count": 7,
   "id": "0dd10247-96ed-43b1-ab51-65691f471ced",
   "metadata": {},
   "outputs": [],
   "source": [
    "# What is logging in Python?\n",
    "#Ans.) Logging in Python is a built-in module that allows you to record events that occur while your program is running. \n",
    "# It's a powerful tool for debugging, troubleshooting, and monitoring your applications.\n",
    "# key components of logging are Loggers, Handlers, Formatters, Levels."
   ]
  },
  {
   "cell_type": "code",
   "execution_count": 9,
   "id": "99dae609-2755-41bb-a0fa-347e4924319e",
   "metadata": {},
   "outputs": [],
   "source": [
    "#What is the significance of the __del__ method in Python?\n",
    "#Ans.) In Python, the __del__ method is a special method known as a destructor. \n",
    "#    It is called when an object is about to be destroyed, which typically happens when its reference count reaches zero or when the Python interpreter shuts down\n",
    "#    it is significant in Resource Cleanup and Finalization of code.\n",
    "#    __del__ is a finalizer. It is called when an object is garbage collected which happens at some point after all references to the object have been deleted."
   ]
  },
  {
   "cell_type": "code",
   "execution_count": 11,
   "id": "ab743731-d277-42bb-92ac-4d52fa5a3855",
   "metadata": {},
   "outputs": [],
   "source": [
    "#What is the difference between import and from ... import in Python?\n",
    "#Ans.) import:\n",
    "#   Syntax: import module_name\n",
    "#   Effect: Imports the entire module, making all of its functions, classes, and variables available under the module_name namespace.\n",
    "#   Usage: module_name.function_name()\n",
    "# from ... import:\n",
    "#   Syntax: from module_name import name1, name2, ...\n",
    "#   Effect: Imports specific names (functions, classes, variables) from the module directly into your current namespace.\n",
    "#   Usage: function_name()"
   ]
  },
  {
   "cell_type": "code",
   "execution_count": 13,
   "id": "7524553f-cea5-432e-9c52-9512e25e97fb",
   "metadata": {},
   "outputs": [],
   "source": [
    "#How can you handle multiple exceptions in Python?\n",
    "#Ans.) In Python, you can handle multiple exceptions in a few different ways. \n",
    "# Python provides flexible mechanisms to catch and manage multiple exceptions within a try-except block. Here are some of the common methods for handling multiple exceptions:\n",
    "\n",
    "# 1. Using Multiple except Blocks: You can specify multiple except blocks, each handling a different exception.\n",
    "#                                  This approach allows you to handle each specific exception with custom code.\n",
    "# 2. Catching Multiple Exceptions in a Single except Block: You can catch multiple exceptions in a single except block by specifying a tuple of exception types. \n",
    "#                                                           This method is useful when you want to handle different exceptions with the same block of code.\n",
    "# 3. Using a Generic except Block: You can use a generic except block to catch any exception, but it is generally recommended to catch specific exceptions first.\n",
    "#                                  A generic except block is usually placed at the end of the try-except chain to catch unexpected errors.\n",
    "# 4. Using else and finally with Exception Handling:\n",
    "#           else block: This block runs if no exception is raised in the try block.\n",
    "#           finally block: This block runs no matter what, whether an exception occurs or not, and is usually used for cleanup actions.\n",
    "# 5. Raising Exceptions After Handling: After catching an exception, you might want to raise it again for further handling outside the current block. This can be done using raise."
   ]
  },
  {
   "cell_type": "code",
   "execution_count": 15,
   "id": "1f516c67-b2fb-4a72-a3e4-bbb47ca6092b",
   "metadata": {},
   "outputs": [],
   "source": [
    "# What is the purpose of the with statement when handling files in Python?\n",
    "#Ans.) The with statement in Python is used to simplify resource management, ensuring that resources are properly acquired and released. \n",
    "#    When working with files, the with statement ensures that the file is automatically closed, even if an exception occurs during file operations"
   ]
  },
  {
   "cell_type": "code",
   "execution_count": 17,
   "id": "d0aaf39e-3fc3-4f17-b183-b3c174f4392a",
   "metadata": {},
   "outputs": [],
   "source": [
    "# What is the difference between multithreading and multiprocessing?\n",
    "#Ans.) Multithreading and multiprocessing are both ways to increase computing power, but they differ in how they do it:\n",
    "#Multithreading\n",
    "#    Uses a single processor to run multiple threads concurrently. \n",
    "#    Each thread runs a process, and all threads share the resources of the single process. Multithreading is good for tasks that need to share data quickly. \n",
    "#    IT is quick to create and requires few resources.\n",
    "#    It uses a common address space for all threads\n",
    "#    This more closely resembles concurrency\n",
    "#Multiprocessing\n",
    "#    Uses multiple processors to run multiple processes in parallel.\n",
    "#    Each process has its own dedicated resources and address space. Multiprocessing is better suited for CPU-bound tasks\n",
    "#    It requires more time and resources to create.\n",
    "#    Multiprocessing more closely resembles parallelism\n",
    "#   It creates a separate address space for each process. "
   ]
  },
  {
   "cell_type": "code",
   "execution_count": 19,
   "id": "a3076cab-4aa5-4da2-9f28-65b19bea5dc7",
   "metadata": {},
   "outputs": [],
   "source": [
    "#What are the advantages of using logging in a program?\n",
    "#Ans.)Logging in a program has many advantages, including:\n",
    "# Debugging: Logging can help you easily debug errors, especially in complex programs. It can also help you understand how the program flows. \n",
    "# Improved security: Logging can improve the overall security of an application. \n",
    "# Better business decisions: Logging can help you make better business decisions and improve business performance. \n",
    "# Prevent failures: Logging can help you identify the root cause of failures and prevent them from happening again. \n",
    "# Track events: Logging can help you track events that happen when your software runs. \n",
    "# Centralized storage: A centralized logging system can make it easier to monitor, analyze, and troubleshoot your system. \n",
    "# Log retention: You can define log retention rules based on your organization's needs and compliance requirements."
   ]
  },
  {
   "cell_type": "code",
   "execution_count": 21,
   "id": "fc776fb0-575f-4d87-a2f5-2171131e6957",
   "metadata": {},
   "outputs": [],
   "source": [
    "#What is memory management in Python?\n",
    "#Ans.) Memory management in Python is the process of allocating and deallocating memory for objects in your program. Python handles this automatically"
   ]
  },
  {
   "cell_type": "code",
   "execution_count": 25,
   "id": "307b8bc6-8aeb-4ee6-a2fc-3740c01c0fff",
   "metadata": {},
   "outputs": [
    {
     "name": "stdout",
     "output_type": "stream",
     "text": [
      "Division by zero!\n",
      "Finally block executed.\n"
     ]
    }
   ],
   "source": [
    "#What are the basic steps involved in exception handling in Python?\n",
    "#Ans.) Exception handling in Python involves the following basic steps:\n",
    "# Try: Enclose the code that might raise an exception within a try block.\n",
    "# Except: Define one or more except blocks to catch specific exceptions.\n",
    "# Else: (Optional) Include an else block to execute code if no exceptions are raised.\n",
    "# Finally: (Optional) Use a finally block to execute code regardless of whether an exception occurs.\n",
    "#Example - \n",
    "try:\n",
    "    # Code that might raise an exception\n",
    "    x = 10 / 0\n",
    "except ZeroDivisionError:\n",
    "    # Code to handle the exception\n",
    "    print(\"Division by zero!\")\n",
    "else:\n",
    "    # Code to execute if no exception occurs\n",
    "    print(\"No exception occurred.\")\n",
    "finally:\n",
    "    # Code to execute regardless of exceptions\n",
    "    print(\"Finally block executed.\")"
   ]
  },
  {
   "cell_type": "code",
   "execution_count": 29,
   "id": "b5fea707-661f-438c-ab9b-d33a63e08d40",
   "metadata": {},
   "outputs": [],
   "source": [
    "#Why is memory management important in Python?\n",
    "#Ans.)Memory management is crucial in Python for several reasons:\n",
    "    # Efficient Resource Utilization: Proper memory management ensures that your Python programs use memory efficiently, avoiding unnecessary memory consumption. \n",
    "    # Preventing Memory Leaks: Python's automatic memory management (garbage collection) helps prevent memory leaks, which occur when memory is allocated but never released. \n",
    "    # Improved Performance: Efficient memory management can improve the performance of your Python programs by reducing the overhead of memory allocation and deallocation. \n",
    "    # Simplified Development: Python's automatic memory management frees developers from the burden of manual memory management, allowing them to focus on the logic\n",
    "    #                         and functionality of their code.This can lead to increased productivity and reduced development time."
   ]
  },
  {
   "cell_type": "code",
   "execution_count": 31,
   "id": "8d5af6e0-8565-4bbc-9ddc-07c55cb62117",
   "metadata": {},
   "outputs": [],
   "source": [
    "# What is the role of try and except in exception handling?\n",
    "#Ans.) In Python, the try and except statements are used to handle exceptions, or exceptional conditions that occur during a program's execution: \n",
    "# try block-\n",
    "#       Contains code that might raise an exception. Python attempts to execute the code in this block.\n",
    "# except block-\n",
    "#       Contains code to handle the exception. If an exception occurs, execution jumps to the except block."
   ]
  },
  {
   "cell_type": "code",
   "execution_count": 33,
   "id": "3cf3ac12-8629-45af-8cc2-a089836af53a",
   "metadata": {},
   "outputs": [],
   "source": [
    "#How does Python's garbage collection system work?\n",
    "#Ans.) Python's garbage collection system automatically manages memory by detecting and removing objects that are no longer in use. It uses combination of mechanisms to do this,including:\n",
    "#     Reference counting -  A reference counter increases by one when an object is referenced, and decreases by one when the reference is removed.\n",
    "#                          When the counter reaches zero, the object is deleted. \n",
    "#     Generational garbage collection - Objects are placed into three generations: Generation 0, Generation 1, and Generation 2. New objects are placed in Generation 0,\n",
    "#                                       and objects that survive a collection are moved to the next generation. \n",
    "#     Weak references -  Weak references allow objects to be referenced without increasing their reference count. This allows the object to be collected when no strong references remain. \n",
    "#     Mark and sweep algorithm -  Python also uses the mark and sweep algorithm for garbage collection\n",
    "# Note - Python's garbage collection is enabled by default and runs automatically, but you can also force it to run immediately using the gc.collect() function"
   ]
  },
  {
   "cell_type": "code",
   "execution_count": 35,
   "id": "1a7393f0-f597-4e51-92e2-a4fea0a94fea",
   "metadata": {},
   "outputs": [],
   "source": [
    "#What is the purpose of the else block in exception handling?\n",
    "#Ans.) The try block lets you test a block of code for errors. The except block lets you handle the error. The else block lets you execute code when there is no error."
   ]
  },
  {
   "cell_type": "code",
   "execution_count": 4,
   "id": "6fcd0ce2-2f2e-452a-bcb8-9ed419aa199c",
   "metadata": {},
   "outputs": [],
   "source": [
    "#What are the common logging levels in Python?\n",
    "#Ans.) Python's logging module provides several logging levels to indicate the severity of a message: \n",
    "#    DEBUG: Detailed information, typically only useful for developers diagnosing problems.\n",
    "#    INFO: Confirmation that things are working as expected.\n",
    "#    WARNING: An indication that something unexpected happened, or indicative of a potential future problem.\n",
    "#    ERROR: Due to a more serious problem, the software has not been able to perform some function.\n",
    "#    CRITICAL: A serious error, indicating that the program itself may be unable to continue running."
   ]
  },
  {
   "cell_type": "code",
   "execution_count": 6,
   "id": "047fea11-cca3-46c7-892b-d4a2c3755645",
   "metadata": {},
   "outputs": [],
   "source": [
    "#What is the difference between os.fork() and multiprocessing in Python?\n",
    "# Ans.) Both os.fork() and the multiprocessing module in Python are used for creating new processes, but they have key differences in their approach and usage:\n",
    "# os.fork():\n",
    "#       Lower-Level: os.fork() is a system call directly exposed by the operating system, providing a more low-level way to create a new process.\n",
    "#       Platform-Specific: It is not available on Windows, as Windows doesn't support the fork system call.\n",
    "#       Copy-on-Write: The child process initially shares the same memory space as the parent process using a mechanism called copy-on-write.\n",
    "#                      This means that memory is only copied when either the parent or child process modifies it, making it potentially faster for large datasets.\n",
    "#       Inheritance: The child process inherits all the variables and state of the parent process at the time of the fork.\n",
    "#       Complexity: It requires more careful management of shared resources and synchronization between processes.\n",
    "# multiprocessing module:\n",
    "#       Higher-Level: The multiprocessing module provides a higher-level abstraction for working with processes, making it easier to write cross-platform code.\n",
    "#       Cross-Platform: It works on Windows, macOS, and Linux.\n",
    "#       Spawn: On Windows and macOS, it uses the spawn method by default, which creates a new process with a fresh Python interpreter, \n",
    "#             rather than copying the parent process's memory space. This is slower than fork, but it is more reliable and portable.\n",
    "#       Process Class: It provides a Process class for representing a new process, along with convenient methods for managing process execution, communication, and synchronization.\n",
    "#       Data Sharing: It offers mechanisms for safely sharing data between processes using objects like Queue, Pipe, Value, and Array."
   ]
  },
  {
   "cell_type": "code",
   "execution_count": 8,
   "id": "57b72fac-2b11-4460-acdf-c2d0910fbdc5",
   "metadata": {},
   "outputs": [],
   "source": [
    "#What is the importance of closing a file in Python?\n",
    "# Ans.)Closing a file in Python is important for the following reasons:\n",
    "#   Resource Management: When you open a file, the operating system allocates resources to manage it.\n",
    "#                       If you don't close the file, these resources remain in use, potentially leading to memory leaks and performance issues.\n",
    "#   Data Integrity: Changes made to a file may not be fully written to disk until it's closed. If your program crashes or terminates unexpectedly without closing the file, \n",
    "#                   you could lose data.\n",
    "#   File Locking: Open files can prevent other processes from accessing them. Closing a file releases the lock, allowing other programs or threads to work with the file.\n",
    "#   Error Handling: Closing a file properly ensures that any errors that occurred during file operations are handled correctly."
   ]
  },
  {
   "cell_type": "code",
   "execution_count": 10,
   "id": "60f9e2c2-f2cb-472a-9dd5-d7fa95100060",
   "metadata": {},
   "outputs": [],
   "source": [
    "#What is the difference between file.read() and file.readline() in Python?\n",
    "# Ans.)In Python, file.read() and file.readline() are both used to read data from a file, but they differ in how they read the data:\n",
    "# file.read():\n",
    "#    Reads the entire content of the file as a single string.\n",
    "#    Useful for small files where you want all the data at once.\n",
    "#    Can optionally take an argument to specify the number of bytes to read\n",
    "# file.readline():\n",
    "#    Reads a single line from the file and returns it as a string. \n",
    "#    Useful for larger files where you want to process one line at a time. \n",
    "#    Automatically includes the newline character (\\n) at the end of each line, unless it's the last line in the file."
   ]
  },
  {
   "cell_type": "code",
   "execution_count": 12,
   "id": "77dae769-52fe-490e-a241-196ffb39d13e",
   "metadata": {},
   "outputs": [],
   "source": [
    "#What is the logging module in Python used for?\n",
    "# Ans.)Python logging is a module that allows you to track events that occur while your program is running. \n",
    "#     You can use logging to record information about errors, warnings, and other events that occur during program execution.\n",
    "#     And logging is a useful tool for debugging, troubleshooting, and monitoring your program."
   ]
  },
  {
   "cell_type": "code",
   "execution_count": 14,
   "id": "5042f051-61a5-4548-a2fa-aab9f74a0527",
   "metadata": {},
   "outputs": [],
   "source": [
    "#What is the os module in Python used for in file handling?\n",
    "# Ans.)In Python, the os module provides a way of interacting with the operating system, and it includes several functions that are useful for file handling tasks.\n",
    "# It allows you to interact with the file system, perform various operations on files and directories, and work with paths, directories, and files in an OS-independent way.\n",
    "# The os module is a powerful tool for file and directory manipulation, and it allows you to perform tasks that are otherwise platform-dependent, making your code more portable.\n",
    "# some of the common handling tasks that os module is used for is -\n",
    "#     os.mkdir(path) – Creates a directory at the specified path\n",
    "#     os.path.isfile(path): Checks if the path represents a file\n",
    "#     os.listdir(path): Lists all files and directories in the specified path, etc."
   ]
  },
  {
   "cell_type": "code",
   "execution_count": 16,
   "id": "9f88fdad-523a-441a-aab0-bfbe44404234",
   "metadata": {},
   "outputs": [],
   "source": [
    "#What are the challenges associated with memory management in Python?\n",
    "# Ans.)Python handles memory management automatically, but there are still some challenges developers might encounter:\n",
    "# Memory Leaks:\n",
    "#       Circular References: When objects reference each other, creating a cycle, they can't be garbage collected even if they are no longer in use.\n",
    "#       Unintended Object Retention: Holding onto large objects or data structures longer than necessary can consume excessive memory.\n",
    "# Performance Overhead:\n",
    "#       Garbage Collection: While automatic, garbage collection can introduce pauses in program execution, especially for large datasets.\n",
    "#       Memory Fragmentation: Memory allocation and deallocation can lead to fragmented memory, making it harder to allocate large contiguous blocks.\n",
    "#  Lack of Fine-Grained Control:\n",
    "#       Limited Manual Control: Unlike some languages (C/C++), Python doesn't provide direct control over memory allocation and deallocation.\n",
    "#       Reference Counting: Python's primary garbage collection mechanism, reference counting, can't detect circular references on its own.\n",
    "#  Large Datasets and Memory-Intensive Tasks:\n",
    "#       Out-of-Memory Errors: When dealing with large datasets or memory-intensive tasks, Python can run out of memory.\n",
    "#       Optimization Difficulty: Optimizing memory usage in complex Python applications can be challenging."
   ]
  },
  {
   "cell_type": "code",
   "execution_count": 18,
   "id": "365245f0-d2c2-40b3-bf3a-4640b2718c58",
   "metadata": {},
   "outputs": [
    {
     "ename": "ValueError",
     "evalue": "x cannot be negative",
     "output_type": "error",
     "traceback": [
      "\u001b[1;31m---------------------------------------------------------------------------\u001b[0m",
      "\u001b[1;31mValueError\u001b[0m                                Traceback (most recent call last)",
      "Cell \u001b[1;32mIn[18], line 7\u001b[0m\n\u001b[0;32m      5\u001b[0m x \u001b[38;5;241m=\u001b[39m \u001b[38;5;241m-\u001b[39m\u001b[38;5;241m1\u001b[39m\n\u001b[0;32m      6\u001b[0m \u001b[38;5;28;01mif\u001b[39;00m x \u001b[38;5;241m<\u001b[39m \u001b[38;5;241m0\u001b[39m:\n\u001b[1;32m----> 7\u001b[0m     \u001b[38;5;28;01mraise\u001b[39;00m \u001b[38;5;167;01mValueError\u001b[39;00m(\u001b[38;5;124m\"\u001b[39m\u001b[38;5;124mx cannot be negative\u001b[39m\u001b[38;5;124m\"\u001b[39m)\n",
      "\u001b[1;31mValueError\u001b[0m: x cannot be negative"
     ]
    }
   ],
   "source": [
    "#How do you raise an exception manually in Python?\n",
    "# Ans.) To manually raise an exception in Python, you can use the raise statement. Here's the basic syntax: \n",
    "#        raise Exception(\"Error message\")\n",
    "#Example-\n",
    "x = -1\n",
    "if x < 0:\n",
    "    raise ValueError(\"x cannot be negative\")"
   ]
  },
  {
   "cell_type": "code",
   "execution_count": 20,
   "id": "e8ec0a15-2268-4354-b631-dec0d915ed9c",
   "metadata": {},
   "outputs": [],
   "source": [
    "#Why is it important to use multithreading in certain applications?\n",
    "# Ans.) Multithreading is important in certain applications because it allows for concurrent execution of multiple tasks within a single program, \n",
    "#  effectively utilizing multiple CPU cores and improving overall performance by enabling parallel processing, leading to better responsiveness and resource utilization, \n",
    "#  especially when dealing with tasks that involve waiting for input/output operations (like network requests) without blocking the main application thread.\n",
    "# Key reasons to use multithreading:\n",
    "#    Enhanced Performance: By dividing tasks into smaller threads, multiple operations can run simultaneously on a multi-core processor, significantly boosting application speed. \n",
    "#    Improved Responsiveness: While one thread is performing a long-running task, other threads can still respond to user input, preventing the application from appearing frozen. \n",
    "#    Better Resource Utilization: When waiting for data from an external source, a thread can be suspended while other threads continue processing, making efficient use of CPU cycles. \n",
    "#    Scalability: Multithreading allows applications to scale well on systems with more CPU cores, as more threads can be created to take advantage of increased processing power."
   ]
  },
  {
   "cell_type": "markdown",
   "id": "2d113662-7101-4b12-8448-d85ca61b86ba",
   "metadata": {},
   "source": [
    "PRACTICAL QUESTIONS"
   ]
  },
  {
   "cell_type": "code",
   "execution_count": 23,
   "id": "9850c806-3de4-42dc-bfcd-d4a8a97827fe",
   "metadata": {},
   "outputs": [
    {
     "name": "stdout",
     "output_type": "stream",
     "text": [
      "Object `it` not found.\n",
      "String written to the file successfully.\n",
      "Multiple lines written to the file successfully.\n",
      "String appended to the file successfully.\n"
     ]
    }
   ],
   "source": [
    "How can you open a file for writing in Python and write a string to it?\n",
    "# Open the file in write mode ('w')\n",
    "with open(\"example.txt\", \"w\") as file:\n",
    "    file.write(\"Hello, this is a string written to the file!\")\n",
    "\n",
    "print(\"String written to the file successfully.\")\n",
    "lines = [\"First line\\n\", \"Second line\\n\", \"Third line\\n\"]\n",
    "\n",
    "with open(\"example.txt\", \"w\") as file:\n",
    "    file.writelines(lines)\n",
    "\n",
    "print(\"Multiple lines written to the file successfully.\")\n",
    "with open(\"example.txt\", \"a\") as file:\n",
    "    file.write(\"This is an additional string added to the file!\")\n",
    "\n",
    "print(\"String appended to the file successfully.\")\n"
   ]
  },
  {
   "cell_type": "code",
   "execution_count": 25,
   "id": "63f3e6a6-81b9-4e04-aaaa-0e1c187be6c4",
   "metadata": {},
   "outputs": [
    {
     "name": "stdout",
     "output_type": "stream",
     "text": [
      "First line\n",
      "Second line\n",
      "Third line\n",
      "This is an additional string added to the file!"
     ]
    }
   ],
   "source": [
    "#Write a Python program to read the contents of a file and print each line?\n",
    "# Open the file in read mode ('r')\n",
    "with open(\"example.txt\", \"r\") as file:\n",
    "    # Read each line in the file and print it\n",
    "    for line in file:\n",
    "        print(line, end=\"\")  # The 'end=\"\"' prevents an extra newline after each line\n"
   ]
  },
  {
   "cell_type": "code",
   "execution_count": 35,
   "id": "a2430e5a-95ee-41e7-937f-c066ddd5c4b7",
   "metadata": {},
   "outputs": [
    {
     "name": "stdout",
     "output_type": "stream",
     "text": [
      "First line\n",
      "Second line\n",
      "Third line\n",
      "This is an additional string added to the file!"
     ]
    }
   ],
   "source": [
    "#How would you handle a case where the file doesn't exist while trying to open it for reading?\n",
    "try:\n",
    "    # Attempt to open the file in read mode\n",
    "    with open(\"example.txt\", \"r\") as file:\n",
    "        # Read and print each line\n",
    "        for line in file:\n",
    "            print(line, end=\"\")\n",
    "except FileNotFoundError:\n",
    "    print(\"The file does not exist. Please check the file path.\")\n"
   ]
  },
  {
   "cell_type": "code",
   "execution_count": 37,
   "id": "f5da96b5-0ff9-472d-abaa-e57513b3926d",
   "metadata": {},
   "outputs": [
    {
     "name": "stdout",
     "output_type": "stream",
     "text": [
      "The source file 'source.txt' does not exist. Please check the file path.\n"
     ]
    }
   ],
   "source": [
    "#Write a Python script that reads from one file and writes its content to another file\n",
    "# Specify the source and destination file paths\n",
    "source_file = \"source.txt\"\n",
    "destination_file = \"destination.txt\"\n",
    "\n",
    "try:\n",
    "    # Open the source file in read mode and the destination file in write mode\n",
    "    with open(source_file, \"r\") as src, open(destination_file, \"w\") as dest:\n",
    "        # Read the content from the source file and write it to the destination file\n",
    "        content = src.read()  # Read all content from the source file\n",
    "        dest.write(content)  # Write the content to the destination file\n",
    "\n",
    "    print(f\"Content from '{source_file}' has been copied to '{destination_file}' successfully.\")\n",
    "\n",
    "except FileNotFoundError:\n",
    "    print(f\"The source file '{source_file}' does not exist. Please check the file path.\")\n",
    "except Exception as e:\n",
    "    print(f\"An error occurred: {e}\")\n"
   ]
  },
  {
   "cell_type": "code",
   "execution_count": 39,
   "id": "96f90e62-343c-4f71-aa54-0f01c2f68901",
   "metadata": {},
   "outputs": [
    {
     "name": "stdout",
     "output_type": "stream",
     "text": [
      "Error: Cannot divide by zero!\n"
     ]
    }
   ],
   "source": [
    "#How would you catch and handle division by zero error in Python\n",
    "try:\n",
    "    # Try to divide by zero\n",
    "    numerator = 10\n",
    "    denominator = 0\n",
    "    result = numerator / denominator\n",
    "    print(\"Result:\", result)\n",
    "except ZeroDivisionError:\n",
    "    print(\"Error: Cannot divide by zero!\")\n"
   ]
  },
  {
   "cell_type": "code",
   "execution_count": 41,
   "id": "3b88a506-3d54-4bf2-974c-669cafb4367a",
   "metadata": {},
   "outputs": [
    {
     "name": "stdout",
     "output_type": "stream",
     "text": [
      "Error: Cannot divide by zero. Check the log file for details.\n"
     ]
    }
   ],
   "source": [
    "#Write a Python program that logs an error message to a log file when a division by zero exception occurs?\n",
    "import logging\n",
    "\n",
    "# Set up logging configuration\n",
    "logging.basicConfig(filename=\"error_log.txt\", level=logging.ERROR, format=\"%(asctime)s - %(levelname)s - %(message)s\")\n",
    "\n",
    "def divide(numerator, denominator):\n",
    "    try:\n",
    "        result = numerator / denominator\n",
    "        return result\n",
    "    except ZeroDivisionError as e:\n",
    "        # Log the error message to the log file\n",
    "        logging.error(f\"Division by zero error: {e}\")\n",
    "        print(\"Error: Cannot divide by zero. Check the log file for details.\")\n",
    "        return None\n",
    "\n",
    "# Example-\n",
    "numerator = 10\n",
    "denominator = 0  # This will cause a division by zero error\n",
    "\n",
    "# Perform the division operation\n",
    "result = divide(numerator, denominator)\n"
   ]
  },
  {
   "cell_type": "code",
   "execution_count": 43,
   "id": "6b6cb319-a2af-4282-bd60-856dfdd759e7",
   "metadata": {},
   "outputs": [],
   "source": [
    "#How do you log information at different levels (INFO, ERROR, WARNING) in Python using the logging module?\n",
    "import logging\n",
    "\n",
    "# Set up logging configuration\n",
    "logging.basicConfig(\n",
    "    filename=\"app.log\",  # Log messages will be written to this file\n",
    "    level=logging.DEBUG,  # Log all messages from DEBUG level and above\n",
    "    format=\"%(asctime)s - %(levelname)s - %(message)s\"\n",
    ")\n",
    "\n",
    "# Example log messages at different levels\n",
    "logging.debug(\"This is a debug message, used for detailed debugging.\")\n",
    "logging.info(\"This is an info message, providing general information.\")\n",
    "logging.warning(\"This is a warning message, indicating a potential issue.\")\n",
    "logging.error(\"This is an error message, indicating something went wrong.\")\n",
    "logging.critical(\"This is a critical message, indicating a serious problem.\")\n"
   ]
  },
  {
   "cell_type": "code",
   "execution_count": 47,
   "id": "3183bc73-383e-4885-84fe-6722265c960e",
   "metadata": {},
   "outputs": [
    {
     "name": "stdout",
     "output_type": "stream",
     "text": [
      "First line\n",
      "Second line\n",
      "Third line\n",
      "This is an additional string added to the file!\n"
     ]
    }
   ],
   "source": [
    "#Write a program to handle a file opening error using exception handling?\n",
    "try:\n",
    "    # Attempt to open a file that may not exist or is inaccessible\n",
    "    filename = \"example.txt\"\n",
    "    with open(filename, \"r\") as file:\n",
    "        content = file.read()\n",
    "        print(content)  # Print the contents of the file\n",
    "\n",
    "except FileNotFoundError:\n",
    "    print(f\"Error: The file '{filename}' was not found. Please check the file path.\")\n",
    "except PermissionError:\n",
    "    print(f\"Error: You do not have permission to open the file '{filename}'.\")\n",
    "except Exception as e:\n",
    "    print(f\"An unexpected error occurred: {e}\")"
   ]
  },
  {
   "cell_type": "code",
   "execution_count": 49,
   "id": "861b156a-fa9c-4a5a-9e39-8b695b0175be",
   "metadata": {},
   "outputs": [
    {
     "name": "stdout",
     "output_type": "stream",
     "text": [
      "Content of the file:\n",
      "First line\n",
      "Second line\n",
      "Third line\n",
      "This is an additional string added to the file!"
     ]
    }
   ],
   "source": [
    "#How can you read a file line by line and store its content in a list in Python?\n",
    "# Open the file in read mode\n",
    "filename = \"example.txt\"\n",
    "lines = []\n",
    "\n",
    "try:\n",
    "    with open(filename, \"r\") as file:\n",
    "        # Read each line and store it in the list\n",
    "        lines = file.readlines()  # This returns a list where each element is a line from the file\n",
    "\n",
    "    # Print the list containing the lines from the file\n",
    "    print(\"Content of the file:\")\n",
    "    for line in lines:\n",
    "        print(line, end=\"\")  # 'end=\"\"' prevents double newlines since 'readlines' includes newlines\n",
    "\n",
    "except FileNotFoundError:\n",
    "    print(f\"Error: The file '{filename}' was not found. Please check the file path.\")\n",
    "except Exception as e:\n",
    "    print(f\"An unexpected error occurred: {e}\")\n"
   ]
  },
  {
   "cell_type": "code",
   "execution_count": 51,
   "id": "47d069b3-7650-4511-9b95-5901189fb0d4",
   "metadata": {},
   "outputs": [
    {
     "name": "stdout",
     "output_type": "stream",
     "text": [
      "Data has been successfully appended to 'example.txt'.\n"
     ]
    }
   ],
   "source": [
    "# How can you append data to an existing file in Python?\n",
    "# Specify the file name\n",
    "filename = \"example.txt\"\n",
    "\n",
    "# Data to append\n",
    "data_to_append = \"\\nThis is a new line of text that will be appended to the file.\"\n",
    "\n",
    "try:\n",
    "    # Open the file in append mode ('a')\n",
    "    with open(filename, \"a\") as file:\n",
    "        # Write the new data to the file\n",
    "        file.write(data_to_append)\n",
    "\n",
    "    print(f\"Data has been successfully appended to '{filename}'.\")\n",
    "\n",
    "except Exception as e:\n",
    "    print(f\"An error occurred: {e}\")"
   ]
  },
  {
   "cell_type": "code",
   "execution_count": 55,
   "id": "1faf3d4b-3734-49e2-8451-701b22e4b6d7",
   "metadata": {},
   "outputs": [
    {
     "name": "stdout",
     "output_type": "stream",
     "text": [
      "Error: The key 'country' does not exist in the dictionary.\n"
     ]
    }
   ],
   "source": [
    "#Write a Python program that uses a try-except block to handle an error when attempting to access a dictionary key that doesn't exist.\n",
    "my_dict = {\"name\": \"Alice\", \"age\": 30, \"city\": \"New York\"}\n",
    "\n",
    "# Key to access\n",
    "key_to_access = \"country\"\n",
    "\n",
    "try:\n",
    "    # Attempt to access the key in the dictionary\n",
    "    value = my_dict[key_to_access]\n",
    "    print(f\"The value for '{key_to_access}' is: {value}\")\n",
    "except KeyError:\n",
    "    print(f\"Error: The key '{key_to_access}' does not exist in the dictionary.\")\n"
   ]
  },
  {
   "cell_type": "code",
   "execution_count": 57,
   "id": "63ef592b-95c5-44bb-b896-f370afdc8303",
   "metadata": {},
   "outputs": [
    {
     "name": "stdin",
     "output_type": "stream",
     "text": [
      "Enter the first number:  100\n",
      "Enter the second number:  25\n"
     ]
    },
    {
     "name": "stdout",
     "output_type": "stream",
     "text": [
      "The result of 100 / 25 is: 4.0\n",
      "Error: Index out of range!\n"
     ]
    }
   ],
   "source": [
    "#Write a program that demonstrates using multiple except blocks to handle different types of exceptions.\n",
    "# Function that demonstrates multiple except blocks\n",
    "def handle_exceptions():\n",
    "    try:\n",
    "        # Taking user input and trying different operations\n",
    "        num1 = int(input(\"Enter the first number: \"))\n",
    "        num2 = int(input(\"Enter the second number: \"))\n",
    "\n",
    "        # Perform a division operation (may raise ZeroDivisionError)\n",
    "        result = num1 / num2\n",
    "        print(f\"The result of {num1} / {num2} is: {result}\")\n",
    "\n",
    "        # Attempting to access an invalid index (may raise IndexError)\n",
    "        my_list = [1, 2, 3]\n",
    "        print(f\"Accessing an invalid index: {my_list[5]}\")\n",
    "\n",
    "    except ZeroDivisionError as e:\n",
    "        print(\"Error: Cannot divide by zero!\")\n",
    "    except ValueError as e:\n",
    "        print(\"Error: Invalid input. Please enter valid integers.\")\n",
    "    except IndexError as e:\n",
    "        print(\"Error: Index out of range!\")\n",
    "    except Exception as e:\n",
    "        print(f\"An unexpected error occurred: {e}\")\n",
    "\n",
    "# Call the function to demonstrate exception handling\n",
    "handle_exceptions()\n"
   ]
  },
  {
   "cell_type": "code",
   "execution_count": 59,
   "id": "5449aaab-a95b-4789-a7df-5db0cfbe20ca",
   "metadata": {},
   "outputs": [
    {
     "name": "stdout",
     "output_type": "stream",
     "text": [
      "File content:\n",
      "First line\n",
      "Second line\n",
      "Third line\n",
      "This is an additional string added to the file!\n",
      "This is a new line of text that will be appended to the file.\n"
     ]
    }
   ],
   "source": [
    "#How would you check if a file exists before attempting to read it in Python?\n",
    "import os\n",
    "\n",
    "filename = \"example.txt\"\n",
    "\n",
    "# Check if the file exists and is a file\n",
    "if os.path.exists(filename) and os.path.isfile(filename):\n",
    "    try:\n",
    "        # Open the file and read its content\n",
    "        with open(filename, \"r\") as file:\n",
    "            content = file.read()\n",
    "            print(\"File content:\")\n",
    "            print(content)\n",
    "    except Exception as e:\n",
    "        print(f\"An error occurred while reading the file: {e}\")\n",
    "else:\n",
    "    print(f\"The file '{filename}' does not exist or is not a file.\")"
   ]
  },
  {
   "cell_type": "code",
   "execution_count": 63,
   "id": "8f392ce1-722f-4fb9-a717-a0205a4569ed",
   "metadata": {},
   "outputs": [],
   "source": [
    "# Write a program that uses the logging module to log both informational and error messages.\n",
    "import logging\n",
    "\n",
    "# Configure logging to write messages to a file and include timestamps\n",
    "logging.basicConfig(filename=\"app.log\", level=logging.DEBUG,\n",
    "                    format=\"%(asctime)s - %(levelname)s - %(message)s\")\n",
    "\n",
    "# Log an informational message\n",
    "logging.info(\"This is an informational message.\")\n",
    "\n",
    "# Log an error message\n",
    "try:\n",
    "    # Example of a division by zero error\n",
    "    result = 10 / 0\n",
    "except ZeroDivisionError as e:\n",
    "    logging.error(\"An error occurred: Division by zero.\")\n",
    "    logging.exception(\"Exception details:\")\n",
    "\n",
    "# Another informational message\n",
    "logging.info(\"Program execution completed.\")"
   ]
  },
  {
   "cell_type": "code",
   "execution_count": 165,
   "id": "141cbc9e-0240-4955-8b7e-f063233a148e",
   "metadata": {},
   "outputs": [
    {
     "name": "stdout",
     "output_type": "stream",
     "text": [
      "Content of the file 'example.txt':\n",
      "\n",
      "First line\n",
      "Second line\n",
      "Third line\n",
      "This is an additional string added to the file!\n",
      "This is a new line of text that will be appended to the file.\n"
     ]
    }
   ],
   "source": [
    "#Write a Python program that prints the content of a file and handles the case when the file is empty.\n",
    "def print_file_content(filename):\n",
    "    try:\n",
    "        with open(filename, \"r\") as file:\n",
    "            content = file.read()\n",
    "            \n",
    "            # Check if the file is empty\n",
    "            if not content:\n",
    "                print(f\"The file '{filename}' is empty.\")\n",
    "            else:\n",
    "                print(f\"Content of the file '{filename}':\\n\")\n",
    "                print(content)\n",
    "                \n",
    "    except FileNotFoundError:\n",
    "        print(f\"Error: The file '{filename}' was not found.\")\n",
    "    except Exception as e:\n",
    "        print(f\"An unexpected error occurred: {e}\")\n",
    "\n",
    "# Specify the filename\n",
    "filename = \"example.txt\"\n",
    "\n",
    "# Call the function to print the content of the file\n",
    "print_file_content(filename)\n"
   ]
  },
  {
   "cell_type": "code",
   "execution_count": 163,
   "id": "891708c4-a23e-4915-bc7e-5ad6e0faf515",
   "metadata": {},
   "outputs": [
    {
     "ename": "SyntaxError",
     "evalue": "invalid syntax (3267258999.py, line 2)",
     "output_type": "error",
     "traceback": [
      "\u001b[1;36m  Cell \u001b[1;32mIn[163], line 2\u001b[1;36m\u001b[0m\n\u001b[1;33m    pip install memory-profiler\u001b[0m\n\u001b[1;37m        ^\u001b[0m\n\u001b[1;31mSyntaxError\u001b[0m\u001b[1;31m:\u001b[0m invalid syntax\n"
     ]
    }
   ],
   "source": [
    "#Demonstrate how to use memory profiling to check the memory usage of a small program\n",
    "pip install memory-profiler \n",
    "\n",
    "# Import the memory profiler\n",
    "from memory_profiler import profile\n",
    "\n",
    "# Define a function to profile\n",
    "@profile\n",
    "def my_function():\n",
    "    a = [i for i in range(10000)]  # Create a large list to consume memory\n",
    "    b = {i: i**2 for i in range(1000)}  # Create a dictionary\n",
    "    c = sum(a)  # Sum of list elements\n",
    "    return c\n",
    "\n",
    "# Main function to run the program\n",
    "if __name__ == \"__main__\":\n",
    "    result = my_function()\n",
    "    print(\"Sum of list elements:\", result)\n",
    "\n",
    "python -m memory_profiler your_script.py"
   ]
  },
  {
   "cell_type": "code",
   "execution_count": 183,
   "id": "8bbff6fb-3a35-4006-af8c-4172ba9b5104",
   "metadata": {},
   "outputs": [
    {
     "name": "stdout",
     "output_type": "stream",
     "text": [
      "Numbers have been written to 'numbers.txt'.\n",
      "\n",
      "Contents of the file:\n",
      "1\n",
      "2\n",
      "3\n",
      "4\n",
      "5\n",
      "6\n",
      "7\n",
      "8\n",
      "9\n",
      "10\n",
      "\n"
     ]
    }
   ],
   "source": [
    "#Write a Python program to create and write a list of numbers to a file, one number per line\n",
    "# List of numbers\n",
    "numbers = [1, 2, 3, 4, 5, 6, 7, 8, 9, 10]\n",
    "\n",
    "# Open the file in write mode ('w')\n",
    "file_path = 'numbers.txt'\n",
    "\n",
    "with open(file_path, 'w') as file:\n",
    "    # Write each number to the file, one per line\n",
    "    for number in numbers:\n",
    "        file.write(f\"{number}\\n\")\n",
    "\n",
    "print(f\"Numbers have been written to '{file_path}'.\")\n",
    "\n",
    "# Check the contents of the file after writing\n",
    "with open(file_path, 'r') as file:\n",
    "    contents = file.read()\n",
    "    print(\"\\nContents of the file:\")\n",
    "    print(contents)\n"
   ]
  },
  {
   "cell_type": "code",
   "execution_count": 185,
   "id": "d88271a4-6925-46f1-bdc6-62a26a3a066a",
   "metadata": {},
   "outputs": [
    {
     "name": "stdout",
     "output_type": "stream",
     "text": [
      "Logging setup is complete. Check the 'app.log' file.\n"
     ]
    }
   ],
   "source": [
    "#How would you implement a basic logging setup that logs to a file with rotation after 1MB?\n",
    "import logging\n",
    "from logging.handlers import RotatingFileHandler\n",
    "\n",
    "# Define log file path and maximum file size (1MB = 1024 * 1024 bytes)\n",
    "log_file = 'app.log'\n",
    "max_log_size = 1 * 1024 * 1024  # 1MB\n",
    "backup_count = 3  # Keep 3 backup copies of the log file\n",
    "\n",
    "# Set up the logger\n",
    "logger = logging.getLogger('MyLogger')\n",
    "logger.setLevel(logging.DEBUG)  # Log all levels of messages (DEBUG, INFO, WARNING, etc.)\n",
    "\n",
    "# Set up rotating file handler\n",
    "rotating_handler = RotatingFileHandler(log_file, maxBytes=max_log_size, backupCount=backup_count)\n",
    "rotating_handler.setLevel(logging.DEBUG)  # Log all levels for this handler\n",
    "\n",
    "# Set up the formatter for log entries\n",
    "formatter = logging.Formatter('%(asctime)s - %(name)s - %(levelname)s - %(message)s')\n",
    "rotating_handler.setFormatter(formatter)\n",
    "\n",
    "# Add the handler to the logger\n",
    "logger.addHandler(rotating_handler)\n",
    "\n",
    "# Example log messages\n",
    "logger.debug(\"This is a debug message.\")\n",
    "logger.info(\"This is an info message.\")\n",
    "logger.warning(\"This is a warning message.\")\n",
    "logger.error(\"This is an error message.\")\n",
    "logger.critical(\"This is a critical message.\")\n",
    "\n",
    "print(\"Logging setup is complete. Check the 'app.log' file.\")\n"
   ]
  },
  {
   "cell_type": "code",
   "execution_count": 187,
   "id": "d9009385-256e-4df0-a4ce-c73c9626205e",
   "metadata": {},
   "outputs": [
    {
     "name": "stdout",
     "output_type": "stream",
     "text": [
      "An error occurred: list index out of range\n",
      "Program continues after handling the exception.\n"
     ]
    }
   ],
   "source": [
    "#Write a program that handles both IndexError and KeyError using a try-except block.\n",
    "# Sample list and dictionary\n",
    "my_list = [1, 2, 3, 4]\n",
    "my_dict = {'a': 1, 'b': 2, 'c': 3}\n",
    "\n",
    "# Try-except block to handle both IndexError and KeyError\n",
    "try:\n",
    "    # Attempting to access an invalid index in the list\n",
    "    print(\"Accessing list element:\", my_list[10])  # This will raise IndexError\n",
    "    \n",
    "    # Attempting to access a key that doesn't exist in the dictionary\n",
    "    print(\"Accessing dictionary element:\", my_dict['d'])  # This will raise KeyError\n",
    "\n",
    "except (IndexError, KeyError) as e:\n",
    "    # Handling both IndexError and KeyError\n",
    "    print(f\"An error occurred: {e}\")\n",
    "\n",
    "print(\"Program continues after handling the exception.\")\n"
   ]
  },
  {
   "cell_type": "code",
   "execution_count": 189,
   "id": "99aab9ce-06da-42b9-9ce7-f7486b21c0c3",
   "metadata": {},
   "outputs": [
    {
     "name": "stdout",
     "output_type": "stream",
     "text": [
      "File contents:\n",
      "First line\n",
      "Second line\n",
      "Third line\n",
      "This is an additional string added to the file!\n",
      "This is a new line of text that will be appended to the file.\n"
     ]
    }
   ],
   "source": [
    "#How would you open a file and read its contents using a context manager in Python.\n",
    "# Using a context manager to open and read a file\n",
    "file_path = 'example.txt'\n",
    "\n",
    "# Open the file in read mode\n",
    "with open(file_path, 'r') as file:\n",
    "    # Read the contents of the file\n",
    "    file_contents = file.read()\n",
    "\n",
    "# After the block, the file is automatically closed\n",
    "print(\"File contents:\")\n",
    "print(file_contents)\n"
   ]
  },
  {
   "cell_type": "code",
   "execution_count": 193,
   "id": "5636bf4a-4dcb-4669-a9d5-edeca5187848",
   "metadata": {},
   "outputs": [
    {
     "name": "stdout",
     "output_type": "stream",
     "text": [
      "The word 'python' appeared 0 times in the file.\n"
     ]
    }
   ],
   "source": [
    "#Write a Python program that reads a file and prints the number of occurrences of a specific word.\n",
    "# Function to count occurrences of a word in a file\n",
    "def count_word_occurrences(file_path, word_to_count):\n",
    "    # Initialize a counter for word occurrences\n",
    "    word_count = 0\n",
    "\n",
    "    # Open the file using a context manager\n",
    "    try:\n",
    "        with open(file_path, 'r') as file:\n",
    "            # Loop through each line in the file\n",
    "            for line in file:\n",
    "                # Count occurrences of the word in each line\n",
    "                word_count += line.lower().split().count(word_to_count.lower())\n",
    "    \n",
    "    except FileNotFoundError:\n",
    "        print(f\"The file at {file_path} was not found.\")\n",
    "        return None\n",
    "\n",
    "    # Return the total count\n",
    "    return word_count\n",
    "\n",
    "\n",
    "# Example-\n",
    "file_path = 'example.txt'  # Path to the file\n",
    "word_to_search = 'python'  # Word to search for in the file\n",
    "\n",
    "# Call the function and print the result\n",
    "count = count_word_occurrences(file_path, word_to_search)\n",
    "if count is not None:\n",
    "    print(f\"The word '{word_to_search}' appeared {count} times in the file.\")\n"
   ]
  },
  {
   "cell_type": "code",
   "execution_count": 207,
   "id": "c8a59b6b-ec82-48e7-a6bd-3ff679074efa",
   "metadata": {},
   "outputs": [
    {
     "name": "stdout",
     "output_type": "stream",
     "text": [
      "File contents:\n",
      "First line\n",
      "Second line\n",
      "Third line\n",
      "This is an additional string added to the file!\n",
      "This is a new line of text that will be appended to the file.\n"
     ]
    }
   ],
   "source": [
    "#How can you check if a file is empty before attempting to read its contents?\n",
    "import os\n",
    "\n",
    "def is_file_empty(file_path):\n",
    "    # Check if the file exists and its size is 0 bytes\n",
    "    return os.path.exists(file_path) and os.path.getsize(file_path) == 0\n",
    "\n",
    "def read_file_if_not_empty(file_path):\n",
    "    if is_file_empty(file_path):\n",
    "        print(f\"The file '{file_path}' is empty.\")\n",
    "    else:\n",
    "        with open(file_path, 'r') as file:\n",
    "            # Read and print the contents of the file\n",
    "            contents = file.read()\n",
    "            print(\"File contents:\")\n",
    "            print(contents)\n",
    "\n",
    "# Example usage\n",
    "file_path = 'example.txt'\n",
    "\n",
    "read_file_if_not_empty(file_path)\n"
   ]
  },
  {
   "cell_type": "code",
   "execution_count": 209,
   "id": "479b56fe-02ce-4ed7-b6f8-3c1aa0395d1a",
   "metadata": {},
   "outputs": [
    {
     "name": "stdout",
     "output_type": "stream",
     "text": [
      "Error: The file 'non_existent_file.txt' was not found.\n",
      "Error: The file 'restricted_file.txt' was not found.\n"
     ]
    }
   ],
   "source": [
    "#Write a Python program that writes to a log file when an error occurs during file handling?\n",
    "import logging\n",
    "\n",
    "# Configure logging to write to a log file\n",
    "logging.basicConfig(\n",
    "    filename='error_log.txt',  # Log file name\n",
    "    level=logging.ERROR,       # Log only ERROR and more severe messages\n",
    "    format='%(asctime)s - %(levelname)s - %(message)s',  # Log format\n",
    ")\n",
    "\n",
    "def read_file(file_path):\n",
    "    try:\n",
    "        # Try to open and read the file\n",
    "        with open(file_path, 'r') as file:\n",
    "            contents = file.read()\n",
    "            print(contents)\n",
    "    except FileNotFoundError as e:\n",
    "        # Log the error if the file is not found\n",
    "        logging.error(f\"File not found: {file_path}. Error: {e}\")\n",
    "        print(f\"Error: The file '{file_path}' was not found.\")\n",
    "    except PermissionError as e:\n",
    "        # Log the error if there are permission issues\n",
    "        logging.error(f\"Permission error when trying to read the file: {file_path}. Error: {e}\")\n",
    "        print(f\"Error: Permission denied for the file '{file_path}'.\")\n",
    "    except Exception as e:\n",
    "        # Log any other unexpected errors\n",
    "        logging.error(f\"An unexpected error occurred with file {file_path}. Error: {e}\")\n",
    "        print(f\"An unexpected error occurred: {e}\")\n",
    "\n",
    "# Example usage\n",
    "file_path = 'non_existent_file.txt'  # Example of a non-existent file\n",
    "read_file(file_path)\n",
    "\n",
    "file_path = 'restricted_file.txt'  # Example of a file with restricted permissions\n",
    "read_file(file_path)\n"
   ]
  }
 ],
 "metadata": {
  "kernelspec": {
   "display_name": "Python [conda env:base] *",
   "language": "python",
   "name": "conda-base-py"
  },
  "language_info": {
   "codemirror_mode": {
    "name": "ipython",
    "version": 3
   },
   "file_extension": ".py",
   "mimetype": "text/x-python",
   "name": "python",
   "nbconvert_exporter": "python",
   "pygments_lexer": "ipython3",
   "version": "3.12.7"
  }
 },
 "nbformat": 4,
 "nbformat_minor": 5
}
